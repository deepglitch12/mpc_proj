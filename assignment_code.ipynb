{
 "cells": [
  {
   "cell_type": "code",
   "execution_count": 11,
   "metadata": {},
   "outputs": [],
   "source": [
    "import numpy as np\n",
    "\n",
    "#defining the constants\n",
    "M = 2   \n",
    "m1 = 1\n",
    "m2 = 1.25\n",
    "L1 = 0.4\n",
    "L2 = 0.6\n",
    "l1 = L1/2\n",
    "l2 = L2/2\n",
    "I1 = 0.0014 \n",
    "I2 = 0.0375\n",
    "g = 9.81\n",
    "\n",
    "#defining the matrices for the linearized system\n",
    "\n",
    "J = np.array([[1,0,0,0,0,0],\n",
    "              [0,1,0,0,0,0],\n",
    "              [0,0,1,0,0,0],\n",
    "              [0,0,0,M+m1+m2,(m1*l1+m2*L1),m2*l2],\n",
    "              [0,0,0,(m1*l1+m2*L1),m1*(l1**2)+m2*(L1**2)+I1,m2*L1*l2],\n",
    "              [0,0,0,m2*l2,m2*L1*l2,m2*(l2**2)+I2]])\n",
    "\n",
    "N = np.array([[0,0,0,1,0,0],\n",
    "              [0,0,0,0,1,0],\n",
    "              [0,0,0,0,0,1],\n",
    "              [0,0,0,0,0,0],\n",
    "              [0,(m1*l1 + m2*L1)*g,0,0,0,0],\n",
    "              [0,0,m2*l2*g,0,0,0]])\n",
    "\n",
    "F = np.array([[0],\n",
    "              [0],\n",
    "              [0],\n",
    "              [1],\n",
    "              [0],\n",
    "              [0]])\n",
    "\n",
    "\n",
    "#continuous dynamic matrices\n",
    "\n",
    "Ac = np.linalg.inv(J) @ N\n",
    "Bc = np.linalg.inv(J) @ F\n",
    "\n",
    "Cc = np.eye(Ac.shape[0])\n",
    "Dc = np.zeros(Bc.shape)"
   ]
  },
  {
   "cell_type": "markdown",
   "metadata": {},
   "source": [
    "# Discretizing the System "
   ]
  },
  {
   "cell_type": "code",
   "execution_count": null,
   "metadata": {},
   "outputs": [],
   "source": [
    "import scipy as sp\n",
    "\n"
   ]
  }
 ],
 "metadata": {
  "kernelspec": {
   "display_name": "base",
   "language": "python",
   "name": "python3"
  },
  "language_info": {
   "codemirror_mode": {
    "name": "ipython",
    "version": 3
   },
   "file_extension": ".py",
   "mimetype": "text/x-python",
   "name": "python",
   "nbconvert_exporter": "python",
   "pygments_lexer": "ipython3",
   "version": "3.12.4"
  }
 },
 "nbformat": 4,
 "nbformat_minor": 2
}
